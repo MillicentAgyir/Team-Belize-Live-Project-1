{
 "cells": [
  {
   "cell_type": "markdown",
   "metadata": {},
   "source": [
    "##         INDIAN START_UP FUNDING ANALYSIS"
   ]
  },
  {
   "cell_type": "markdown",
   "metadata": {},
   "source": [
    "### BUSINESS UNDERSTANDING"
   ]
  },
  {
   "cell_type": "markdown",
   "metadata": {},
   "source": [
    "BACKGROUND: India has emerged as one of the most dynamic startup ecosystem attracting significant investment and fostering innovation accross various sectors. As our team plans to venture into this market, it is crucial to understand the key trends , investor patterns and sector specific insights to make informed strategic decisions.\n",
    "\n",
    "\n",
    "OBJECTIVE : To comprehensively analyze the Indian Startup Ecosystem from 2018 to 2021, identify key trends and insights and provide data driven recommendations for strategic entry and investment opportunities in the indian startup market."
   ]
  },
  {
   "cell_type": "markdown",
   "metadata": {},
   "source": [
    "### UNDERSTANDING THE DATA"
   ]
  },
  {
   "cell_type": "code",
   "execution_count": 1,
   "metadata": {},
   "outputs": [
    {
     "name": "stdout",
     "output_type": "stream",
     "text": [
      "Requirement already satisfied: pyodbc in c:\\users\\magyir\\appdata\\local\\packages\\pythonsoftwarefoundation.python.3.11_qbz5n2kfra8p0\\localcache\\local-packages\\python311\\site-packages (5.1.0)\n",
      "Requirement already satisfied: python-dotenv in c:\\users\\magyir\\appdata\\local\\packages\\pythonsoftwarefoundation.python.3.11_qbz5n2kfra8p0\\localcache\\local-packages\\python311\\site-packages (1.0.1)\n"
     ]
    }
   ],
   "source": [
    "!pip install pyodbc  \n",
    "!pip install python-dotenv "
   ]
  },
  {
   "cell_type": "code",
   "execution_count": 2,
   "metadata": {},
   "outputs": [],
   "source": [
    "import pyodbc     \n",
    "from dotenv import dotenv_values    #import the dotenv_values function from the dotenv package\n",
    "import pandas as pd\n",
    "import warnings \n",
    "\n",
    "warnings.filterwarnings('ignore')"
   ]
  },
  {
   "cell_type": "code",
   "execution_count": 3,
   "metadata": {},
   "outputs": [],
   "source": [
    "# Load environment variables from .env file into a dictionary\n",
    "environment_variables = dotenv_values('database_connection.env')\n",
    "\n",
    "# Get the values for the credentials you set in the '.env' file\n",
    "server = environment_variables.get(\"SERVER\")\n",
    "database = environment_variables.get(\"DATABASE\")\n",
    "username = environment_variables.get(\"USERNAME\")\n",
    "password = environment_variables.get(\"PASSWORD\")"
   ]
  },
  {
   "cell_type": "code",
   "execution_count": 4,
   "metadata": {},
   "outputs": [],
   "source": [
    "# Create a connection string\n",
    "connection_string = f\"DRIVER={{SQL Server}};SERVER={server};DATABASE={database};UID={username};PWD={password};MARS_Connection=yes;MinProtocolVersion=TLSv1.2;\""
   ]
  },
  {
   "cell_type": "code",
   "execution_count": 5,
   "metadata": {},
   "outputs": [
    {
     "ename": "OperationalError",
     "evalue": "('08001', '[08001] [Microsoft][ODBC SQL Server Driver][DBNETLIB]SQL Server does not exist or access denied. (17) (SQLDriverConnect); [08001] [Microsoft][ODBC SQL Server Driver][DBNETLIB]ConnectionOpen (Connect()). (53); [08001] [Microsoft][ODBC SQL Server Driver]Invalid connection string attribute (0)')",
     "output_type": "error",
     "traceback": [
      "\u001b[1;31m---------------------------------------------------------------------------\u001b[0m",
      "\u001b[1;31mOperationalError\u001b[0m                          Traceback (most recent call last)",
      "Cell \u001b[1;32mIn[5], line 5\u001b[0m\n\u001b[0;32m      1\u001b[0m \u001b[38;5;66;03m# Use the connect method of the pyodbc library and pass in the connection string.\u001b[39;00m\n\u001b[0;32m      2\u001b[0m \u001b[38;5;66;03m# This will connect to the server and might take a few seconds to be complete. \u001b[39;00m\n\u001b[0;32m      3\u001b[0m \u001b[38;5;66;03m# Check your internet connection if it takes more time than necessary\u001b[39;00m\n\u001b[1;32m----> 5\u001b[0m connection \u001b[38;5;241m=\u001b[39m \u001b[43mpyodbc\u001b[49m\u001b[38;5;241;43m.\u001b[39;49m\u001b[43mconnect\u001b[49m\u001b[43m(\u001b[49m\u001b[43mconnection_string\u001b[49m\u001b[43m)\u001b[49m\n",
      "\u001b[1;31mOperationalError\u001b[0m: ('08001', '[08001] [Microsoft][ODBC SQL Server Driver][DBNETLIB]SQL Server does not exist or access denied. (17) (SQLDriverConnect); [08001] [Microsoft][ODBC SQL Server Driver][DBNETLIB]ConnectionOpen (Connect()). (53); [08001] [Microsoft][ODBC SQL Server Driver]Invalid connection string attribute (0)')"
     ]
    }
   ],
   "source": [
    "# Use the connect method of the pyodbc library and pass in the connection string.\n",
    "# This will connect to the server and might take a few seconds to be complete. \n",
    "# Check your internet connection if it takes more time than necessary\n",
    "\n",
    "connection = pyodbc.connect(connection_string)"
   ]
  },
  {
   "cell_type": "code",
   "execution_count": null,
   "metadata": {},
   "outputs": [],
   "source": [
    "# Now the sql query to get the data is what what you see below. \n",
    "# Note that you will not have permissions to insert delete or update this database table. \n",
    "\n",
    "# Now the SQL query to get data from the tables\n",
    "query1 = \"SELECT * FROM dbo.LP1_startup_funding2020\"\n",
    "query2 = \"SELECT * FROM dbo.LP1_startup_funding2021\"\n",
    "\n",
    "# Execute the queries and load the data into pandas DataFrames\n",
    "data_2020 = pd.read_sql(query1, connection)\n",
    "data_2021 = pd.read_sql(query2, connection)\n",
    "\n"
   ]
  },
  {
   "cell_type": "code",
   "execution_count": null,
   "metadata": {},
   "outputs": [],
   "source": [
    "data_2020.head()"
   ]
  },
  {
   "cell_type": "code",
   "execution_count": null,
   "metadata": {},
   "outputs": [],
   "source": [
    "data_2021.head()"
   ]
  },
  {
   "cell_type": "code",
   "execution_count": null,
   "metadata": {},
   "outputs": [],
   "source": [
    "data_2020.info()\n"
   ]
  },
  {
   "cell_type": "code",
   "execution_count": null,
   "metadata": {},
   "outputs": [],
   "source": [
    "data_2021.info()"
   ]
  },
  {
   "cell_type": "code",
   "execution_count": null,
   "metadata": {},
   "outputs": [],
   "source": [
    "data_2020.shape\n"
   ]
  },
  {
   "cell_type": "code",
   "execution_count": null,
   "metadata": {},
   "outputs": [],
   "source": [
    "data_2021.shape"
   ]
  },
  {
   "cell_type": "code",
   "execution_count": null,
   "metadata": {},
   "outputs": [],
   "source": [
    "data_2019 =pd.read_csv(r\"C:\\Users\\magyir\\Documents\\New folder\\Team-Belize-Live-Project-1\\Notebooks\\startup_funding2019.csv\")\n",
    "data_2019.head()"
   ]
  },
  {
   "cell_type": "code",
   "execution_count": null,
   "metadata": {},
   "outputs": [],
   "source": [
    "data_2019.shape\n"
   ]
  },
  {
   "cell_type": "code",
   "execution_count": null,
   "metadata": {},
   "outputs": [],
   "source": [
    "data_2019.info()"
   ]
  },
  {
   "cell_type": "code",
   "execution_count": null,
   "metadata": {},
   "outputs": [],
   "source": [
    "data_2018=pd.read_csv(r\"C:\\Users\\magyir\\Documents\\New folder\\Team-Belize-Live-Project-1\\Notebooks\\startup_funding2018.csv\")\n",
    "data_2018.head()"
   ]
  },
  {
   "cell_type": "code",
   "execution_count": null,
   "metadata": {},
   "outputs": [],
   "source": [
    "data_2018.shape"
   ]
  },
  {
   "cell_type": "code",
   "execution_count": null,
   "metadata": {},
   "outputs": [],
   "source": [
    "data_2018.info()"
   ]
  },
  {
   "cell_type": "markdown",
   "metadata": {},
   "source": [
    "DATA CLEANING AND PROCESSING"
   ]
  },
  {
   "cell_type": "code",
   "execution_count": null,
   "metadata": {},
   "outputs": [],
   "source": [
    "\n",
    "\n",
    "# Standardize column names for 2018 data to match others\n",
    "data_2018.columns = ['Company/Brand', 'Sector', 'Stage', 'Amount', 'HeadQuarter', 'What it does']\n",
    "data_2018['Founded'] = None  # Add missing columns with None values\n",
    "data_2018['Founders'] = None\n",
    "data_2018['Investor'] = None\n",
    "\n",
    "# Select relevant columns from 2018 data\n",
    "data_2018 = data_2018[['Company/Brand', 'Founded', 'Sector', 'What it does', 'Amount', 'Stage']]\n",
    "\n",
    "# Standardize columns for 2019, 2020, and 2021 data\n",
    "data_2019 = data_2019[['Company/Brand', 'Founded','Sector', 'What it does', 'Amount($)', 'Stage']]\n",
    "data_2020 = data_2020[['Company_Brand', 'Founded', 'Sector', 'What_it_does', 'Amount','Stage']]\n",
    "data_2021 = data_2021[['Company_Brand', 'Founded', 'Sector', 'What_it_does', 'Amount','Stage']]\n",
    "\n",
    "# Rename columns to maintain consistency\n",
    "data_2019.columns = ['Company/Brand', 'Founded', 'Sector', 'What it does', 'Amount', 'Stage']\n",
    "data_2020.columns = ['Company/Brand', 'Founded', 'Sector', 'What it does', 'Amount', 'Stage']\n",
    "data_2021.columns = ['Company/Brand', 'Founded', 'Sector', 'What it does', 'Amount', 'Stage']\n",
    "\n",
    "# Combine all data into a single DataFrame based on common columns\n",
    "combined_data = pd.concat([data_2018, data_2019, data_2020, data_2021], ignore_index=True)\n",
    "\n",
    "# Display the first few rows of the combined dataset\n",
    "combined_data.head()\n",
    "\n",
    "\n"
   ]
  },
  {
   "cell_type": "code",
   "execution_count": null,
   "metadata": {},
   "outputs": [],
   "source": [
    "combined_data.tail()"
   ]
  },
  {
   "cell_type": "code",
   "execution_count": null,
   "metadata": {},
   "outputs": [],
   "source": [
    "# Display information about the combined dataset\n",
    "print(combined_data.info())"
   ]
  },
  {
   "cell_type": "markdown",
   "metadata": {},
   "source": [
    "### ANALYTICAL QUESTIONS"
   ]
  },
  {
   "cell_type": "markdown",
   "metadata": {},
   "source": [
    "1. Which sectors received the most funding from 2018 to 2021?\n",
    "     a. Analyze the distribution of funding accross various sectors and determine the porportion of funding each sector received.\n",
    "     b. Highlight any emerging sectors that have seen significant growth in funding during this period.\n",
    "\n",
    "2. How has the total funding  amount changed over the years from 2018 to 2021?\n",
    "     a. Identify trends and patterns in annual funding such as periods of rapid growth or decline.\n",
    "     b. Investigate any external factors or events that may have influenced changes in funding levels during these years.\n",
    "\n",
    "3. Is there a significant difference in the total amount of funding received by Technology related startups compared to Non-Technology related startups?\n",
    "     a. Compare the total funding amounts received by Technology related startups.\n",
    "     b. Perform statistical analysis to determine if the differences in the funding amounts are significant.\n",
    "\n",
    "4. How does the funding amounts differ accross sectors?\n",
    "     a. Perform a detailed analysis of the funding amounts across different sectors.\n",
    "     b. Calculate the mean, median and range of funding amounts for different sectors.\n",
    "     c.  Investigate the distributuion of funding amounts within sectors to understand if funding is concentrated among a few startup or more evenly distributed. "
   ]
  },
  {
   "cell_type": "markdown",
   "metadata": {},
   "source": [
    "### HYPOTHESIS"
   ]
  },
  {
   "cell_type": "markdown",
   "metadata": {},
   "source": [
    "Null Hypothesis (H0) - The sector in which a company operates has no significant impact on the funding amount it receives.\n",
    "\n",
    "Alternative Hypothesis (H1) - The sector in which a company operates has significant impact on the funding amount it receives."
   ]
  }
 ],
 "metadata": {
  "kernelspec": {
   "display_name": "Python 3",
   "language": "python",
   "name": "python3"
  },
  "language_info": {
   "codemirror_mode": {
    "name": "ipython",
    "version": 3
   },
   "file_extension": ".py",
   "mimetype": "text/x-python",
   "name": "python",
   "nbconvert_exporter": "python",
   "pygments_lexer": "ipython3",
   "version": "3.11.9"
  }
 },
 "nbformat": 4,
 "nbformat_minor": 2
}
